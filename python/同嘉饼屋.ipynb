{
 "cells": [
  {
   "cell_type": "markdown",
   "metadata": {},
   "source": [
    "# 周中分布拟合-M/M/1"
   ]
  },
  {
   "cell_type": "markdown",
   "metadata": {},
   "source": [
    "## 低谷期服务时间"
   ]
  },
  {
   "cell_type": "code",
   "execution_count": 30,
   "metadata": {},
   "outputs": [
    {
     "name": "stdout",
     "output_type": "stream",
     "text": [
      "MLE of lambda: 2.2222222222222223\n",
      "Chi-squared statistic: 2.911637764781788\n",
      "p-value: 0.08794252817711803\n",
      "数据符合泊松分布。\n"
     ]
    }
   ],
   "source": [
    "import numpy as np\n",
    "from scipy.stats import poisson, chisquare\n",
    "\n",
    "# 数据\n",
    "data = [3, 2, 1, 3, 3, 2, 2, 3, 1]\n",
    "\n",
    "# MLE of lambda\n",
    "lambda_mle = np.mean(data)\n",
    "print(\"MLE of lambda:\", lambda_mle)\n",
    "\n",
    "# 观察到的值\n",
    "k_values = np.unique(data)\n",
    "\n",
    "# 计算每个 k 的期望频率\n",
    "expected_freq = [poisson.pmf(k, lambda_mle) * len(data) for k in k_values]\n",
    "\n",
    "# 观察到的频率\n",
    "observed_freq = [data.count(k) for k in k_values]\n",
    "\n",
    "# 计算卡方统计量\n",
    "chi2_stat, p_value = chisquare(observed_freq, expected_freq, ddof=1)\n",
    "\n",
    "print(\"Chi-squared statistic:\", chi2_stat)\n",
    "print(\"p-value:\", p_value)\n",
    "\n",
    "# 解释结果\n",
    "alpha = 0.05\n",
    "if p_value > alpha:\n",
    "    print(\"数据符合泊松分布。\")\n",
    "else:\n",
    "    print(\"数据不符合泊松分布。\")"
   ]
  },
  {
   "cell_type": "code",
   "execution_count": 31,
   "metadata": {},
   "outputs": [
    {
     "name": "stdout",
     "output_type": "stream",
     "text": [
      "Fitted Exponential Distribution Parameters: (1.0, 1.2222222222222223)\n"
     ]
    },
    {
     "data": {
      "image/png": "[encoded data removed]",
      "text/plain": [
       "<Figure size 432x288 with 1 Axes>"
      ]
     },
     "metadata": {
      "needs_background": "light"
     },
     "output_type": "display_data"
    },
    {
     "name": "stdout",
     "output_type": "stream",
     "text": [
      "Chi-squared statistic: 125.51968172586022\n",
      "p-value: 3.782591885003289e-18\n"
     ]
    }
   ],
   "source": [
    "from scipy.stats import expon\n",
    "import numpy as np\n",
    "import matplotlib.pyplot as plt\n",
    "\n",
    "# 给定数据\n",
    "data = [3, 2, 1, 3, 3, 2, 2, 3, 1]\n",
    "\n",
    "# 拟合指数分布\n",
    "param = expon.fit(data)\n",
    "print(\"Fitted Exponential Distribution Parameters:\", param)\n",
    "\n",
    "import matplotlib.pyplot as plt\n",
    "\n",
    "# 绘制数据的直方图\n",
    "plt.hist(data, bins=20, density=True, alpha=0.6, color='g', label='Data Histogram')\n",
    "\n",
    "# 计算指数分布的概率密度函数（PDF）\n",
    "x = np.linspace(0, np.max(data), 1000)\n",
    "pdf = expon.pdf(x, *param[:-2], loc=param[-2], scale=param[-1])\n",
    "plt.plot(x, pdf, 'r-', lw=2, label='Exponential PDF')\n",
    "\n",
    "plt.title('Data Histogram and Fitted Exponential Distribution')\n",
    "plt.xlabel('Value')\n",
    "plt.ylabel('Probability Density')\n",
    "plt.legend()\n",
    "plt.show()\n",
    "\n",
    "from scipy.stats import chisquare\n",
    "\n",
    "# 计算观察到的频率\n",
    "observed_freq, bins = np.histogram(data, bins=20)\n",
    "\n",
    "# 计算期望频率\n",
    "expected_freq = expon.pdf(bins[:-1], *param[:-2], loc=param[-2], scale=param[-1]) * len(data) * (bins[1] - bins[0])\n",
    "\n",
    "# 卡方检验\n",
    "chi2_stat, p_value = chisquare(observed_freq, expected_freq, ddof=1)\n",
    "\n",
    "print(\"Chi-squared statistic:\", chi2_stat)\n",
    "print(\"p-value:\", p_value)"
   ]
  },
  {
   "cell_type": "markdown",
   "metadata": {},
   "source": [
    "## 高峰期服务时间"
   ]
  },
  {
   "cell_type": "code",
   "execution_count": 29,
   "metadata": {},
   "outputs": [
    {
     "name": "stdout",
     "output_type": "stream",
     "text": [
      "Fitted Exponential Distribution Parameters: (1.0, 0.38888888888888884)\n"
     ]
    },
    {
     "data": {
      "image/png": "[encoded data removed]",
      "text/plain": [
       "<Figure size 432x288 with 1 Axes>"
      ]
     },
     "metadata": {
      "needs_background": "light"
     },
     "output_type": "display_data"
    },
    {
     "name": "stdout",
     "output_type": "stream",
     "text": [
      "Chi-squared statistic: 114.67940447553774\n",
      "p-value: 4.2043906386793185e-16\n"
     ]
    }
   ],
   "source": [
    "from scipy.stats import expon\n",
    "import numpy as np\n",
    "import matplotlib.pyplot as plt\n",
    "\n",
    "# 给定数据\n",
    "data = [3, 1, 1, 1, 2, 1, 2, 1, 1, 1, 1, 2, 1, 1, 1, 1, 2, 2]\n",
    "\n",
    "# 拟合指数分布\n",
    "param = expon.fit(data)\n",
    "print(\"Fitted Exponential Distribution Parameters:\", param)\n",
    "\n",
    "import matplotlib.pyplot as plt\n",
    "\n",
    "# 绘制数据的直方图\n",
    "plt.hist(data, bins=20, density=True, alpha=0.6, color='g', label='Data Histogram')\n",
    "\n",
    "# 计算指数分布的概率密度函数（PDF）\n",
    "x = np.linspace(0, np.max(data), 1000)\n",
    "pdf = expon.pdf(x, *param[:-2], loc=param[-2], scale=param[-1])\n",
    "plt.plot(x, pdf, 'r-', lw=2, label='Exponential PDF')\n",
    "\n",
    "plt.title('Data Histogram and Fitted Exponential Distribution')\n",
    "plt.xlabel('Value')\n",
    "plt.ylabel('Probability Density')\n",
    "plt.legend()\n",
    "plt.show()\n",
    "\n",
    "from scipy.stats import chisquare\n",
    "\n",
    "# 计算观察到的频率\n",
    "observed_freq, bins = np.histogram(data, bins=20)\n",
    "\n",
    "# 计算期望频率\n",
    "expected_freq = expon.pdf(bins[:-1], *param[:-2], loc=param[-2], scale=param[-1]) * len(data) * (bins[1] - bins[0])\n",
    "\n",
    "# 卡方检验\n",
    "chi2_stat, p_value = chisquare(observed_freq, expected_freq, ddof=1)\n",
    "\n",
    "print(\"Chi-squared statistic:\", chi2_stat)\n",
    "print(\"p-value:\", p_value)"
   ]
  },
  {
   "cell_type": "code",
   "execution_count": 28,
   "metadata": {},
   "outputs": [
    {
     "name": "stdout",
     "output_type": "stream",
     "text": [
      "MLE of lambda: 1.3888888888888888\n",
      "Chi-squared statistic: 5.940794124476907\n",
      "p-value: 0.014794351387819399\n",
      "数据不符合泊松分布。\n"
     ]
    }
   ],
   "source": [
    "import numpy as np\n",
    "from scipy.stats import poisson, chisquare\n",
    "\n",
    "# 数据\n",
    "data = [3, 1, 1, 1, 2, 1, 2, 1, 1, 1, 1, 2, 1, 1, 1, 1, 2, 2]\n",
    "\n",
    "# MLE of lambda\n",
    "lambda_mle = np.mean(data)\n",
    "print(\"MLE of lambda:\", lambda_mle)\n",
    "\n",
    "# 观察到的值\n",
    "k_values = np.unique(data)\n",
    "\n",
    "# 计算每个 k 的期望频率\n",
    "expected_freq = [poisson.pmf(k, lambda_mle) * len(data) for k in k_values]\n",
    "\n",
    "# 观察到的频率\n",
    "observed_freq = [data.count(k) for k in k_values]\n",
    "\n",
    "# 计算卡方统计量\n",
    "chi2_stat, p_value = chisquare(observed_freq, expected_freq, ddof=1)\n",
    "\n",
    "print(\"Chi-squared statistic:\", chi2_stat)\n",
    "print(\"p-value:\", p_value)\n",
    "\n",
    "# 解释结果\n",
    "alpha = 0.05\n",
    "if p_value > alpha:\n",
    "    print(\"数据符合泊松分布。\")\n",
    "else:\n",
    "    print(\"数据不符合泊松分布。\")\n"
   ]
  },
  {
   "cell_type": "markdown",
   "metadata": {},
   "source": [
    "## 全样本服务时间"
   ]
  },
  {
   "cell_type": "code",
   "execution_count": 3,
   "metadata": {
    "scrolled": true
   },
   "outputs": [
    {
     "data": {
      "text/plain": [
       "<Figure size 432x288 with 0 Axes>"
      ]
     },
     "metadata": {},
     "output_type": "display_data"
    },
    {
     "data": {
      "image/png": "[encoded data removed]",
      "text/plain": [
       "<Figure size 720x432 with 1 Axes>"
      ]
     },
     "metadata": {
      "needs_background": "light"
     },
     "output_type": "display_data"
    }
   ],
   "source": [
    "import numpy as np\n",
    "import matplotlib.pyplot as plt\n",
    "from scipy.stats import poisson\n",
    "\n",
    "# 给定数据\n",
    "data = [3, 2, 1, 3, 3, 2, 2, 3, 1, 3, 1, 1, 1, 2, 1, 2, 1, 1, 1, 1, 2, 1, 1, 1, 1, 2, 2]\n",
    "\n",
    "# 计算MLE of lambda\n",
    "lambda_mle = np.mean(data)\n",
    "\n",
    "# 计算泊松分布的PMF\n",
    "k_values = np.arange(0, max(data) + 1)\n",
    "pmf = poisson.pmf(k_values, lambda_mle)\n",
    "\n",
    "# 绘制数据的直方图\n",
    "plt.figure()\n",
    "plt.figure(figsize=(10, 6))\n",
    "plt.hist(data, bins=k_values, density=True, alpha=0.6, color='g', label='Data Histogram')\n",
    "\n",
    "# 绘制泊松分布的PMF\n",
    "plt.plot(k_values, pmf, 'r-', lw=2, label=f'Poisson PMF (λ={lambda_mle:.2f})')\n",
    "\n",
    "plt.title('Data Histogram and Poisson PMF')\n",
    "plt.xlabel('Value')\n",
    "plt.ylabel('Probability')\n",
    "plt.legend()\n",
    "plt.show()"
   ]
  },
  {
   "cell_type": "code",
   "execution_count": 48,
   "metadata": {},
   "outputs": [
    {
     "name": "stdout",
     "output_type": "stream",
     "text": [
      "Fitted Exponential Distribution Parameters: (1.0, 0.6666666666666667)\n"
     ]
    },
    {
     "data": {
      "image/png": "[encoded data removed]",
      "text/plain": [
       "<Figure size 432x288 with 1 Axes>"
      ]
     },
     "metadata": {
      "needs_background": "light"
     },
     "output_type": "display_data"
    },
    {
     "name": "stdout",
     "output_type": "stream",
     "text": [
      "Chi-squared statistic: 199.5595344989752\n",
      "p-value: 1.2271841376912826e-32\n"
     ]
    }
   ],
   "source": [
    "from scipy.stats import expon\n",
    "import numpy as np\n",
    "import matplotlib.pyplot as plt\n",
    "\n",
    "# 给定数据\n",
    "data = [3, 2, 1, 3, 3, 2, 2, 3, 1, 3, 1, 1, 1, 2, 1, 2, 1, 1, 1, 1, 2, 1, 1, 1, 1, 2, 2]\n",
    "\n",
    "# 拟合指数分布\n",
    "param = expon.fit(data)\n",
    "print(\"Fitted Exponential Distribution Parameters:\", param)\n",
    "\n",
    "import matplotlib.pyplot as plt\n",
    "\n",
    "# 绘制数据的直方图\n",
    "plt.hist(data, bins=20, density=True, alpha=0.6, color='g', label='Data Histogram')\n",
    "\n",
    "# 计算指数分布的概率密度函数（PDF）\n",
    "x = np.linspace(0, np.max(data), 1000)\n",
    "pdf = expon.pdf(x, *param[:-2], loc=param[-2], scale=param[-1])\n",
    "plt.plot(x, pdf, 'r-', lw=2, label='Exponential PDF')\n",
    "\n",
    "plt.title('Data Histogram and Fitted Exponential Distribution')\n",
    "plt.xlabel('Value')\n",
    "plt.ylabel('Probability Density')\n",
    "plt.legend()\n",
    "plt.show()\n",
    "\n",
    "from scipy.stats import chisquare\n",
    "\n",
    "# 计算观察到的频率\n",
    "observed_freq, bins = np.histogram(data, bins=20)\n",
    "\n",
    "# 计算期望频率\n",
    "expected_freq = expon.pdf(bins[:-1], *param[:-2], loc=param[-2], scale=param[-1]) * len(data) * (bins[1] - bins[0])\n",
    "\n",
    "# 卡方检验\n",
    "chi2_stat, p_value = chisquare(observed_freq, expected_freq, ddof=1)\n",
    "\n",
    "print(\"Chi-squared statistic:\", chi2_stat)\n",
    "print(\"p-value:\", p_value)"
   ]
  },
  {
   "cell_type": "markdown",
   "metadata": {},
   "source": [
    "## 全样本到达"
   ]
  },
  {
   "cell_type": "code",
   "execution_count": 45,
   "metadata": {},
   "outputs": [
    {
     "name": "stdout",
     "output_type": "stream",
     "text": [
      "MLE of lambda: 4.333333333333333\n",
      "Chi-squared statistic: 15.418023802551112\n",
      "p-value: 0.001492122945328041\n",
      "数据不符合泊松分布。\n"
     ]
    }
   ],
   "source": [
    "import numpy as np\n",
    "from scipy.stats import poisson, chisquare\n",
    "\n",
    "# 数据\n",
    "data = [1, 7, 9, 1, 3, 5]\n",
    "\n",
    "# MLE of lambda\n",
    "lambda_mle = np.mean(data)\n",
    "print(\"MLE of lambda:\", lambda_mle)\n",
    "\n",
    "# 观察到的值\n",
    "k_values = np.unique(data)\n",
    "\n",
    "# 计算每个 k 的期望频率\n",
    "expected_freq = [poisson.pmf(k, lambda_mle) * len(data) for k in k_values]\n",
    "\n",
    "# 观察到的频率\n",
    "observed_freq = [data.count(k) for k in k_values]\n",
    "\n",
    "# 计算卡方统计量\n",
    "chi2_stat, p_value = chisquare(observed_freq, expected_freq, ddof=1)\n",
    "\n",
    "print(\"Chi-squared statistic:\", chi2_stat)\n",
    "print(\"p-value:\", p_value)\n",
    "\n",
    "# 解释结果\n",
    "alpha = 0.1\n",
    "if p_value > alpha:\n",
    "    print(\"数据符合泊松分布。\")\n",
    "else:\n",
    "    print(\"数据不符合泊松分布。\")"
   ]
  },
  {
   "cell_type": "markdown",
   "metadata": {},
   "source": [
    "## 低谷期到达分布"
   ]
  },
  {
   "cell_type": "code",
   "execution_count": 16,
   "metadata": {},
   "outputs": [
    {
     "name": "stdout",
     "output_type": "stream",
     "text": [
      "MLE of lambda: 3.5\n",
      "Chi-squared statistic: 30.739404940195087\n",
      "p-value: 9.645093724237972e-07\n",
      "数据不符合泊松分布。\n"
     ]
    }
   ],
   "source": [
    "import numpy as np\n",
    "from scipy.stats import poisson, chisquare\n",
    "\n",
    "# 数据\n",
    "data = [1, 7, 9, 1, 3, 5, 1, 1]\n",
    "\n",
    "# MLE of lambda\n",
    "lambda_mle = np.mean(data)\n",
    "print(\"MLE of lambda:\", lambda_mle)\n",
    "\n",
    "# 观察到的值\n",
    "k_values = np.unique(data)\n",
    "\n",
    "# 计算每个 k 的期望频率\n",
    "expected_freq = [poisson.pmf(k, lambda_mle) * len(data) for k in k_values]\n",
    "\n",
    "# 观察到的频率\n",
    "observed_freq = [data.count(k) for k in k_values]\n",
    "\n",
    "# 计算卡方统计量\n",
    "chi2_stat, p_value = chisquare(observed_freq, expected_freq, ddof=1)\n",
    "\n",
    "print(\"Chi-squared statistic:\", chi2_stat)\n",
    "print(\"p-value:\", p_value)\n",
    "\n",
    "# 解释结果\n",
    "alpha = 0.05\n",
    "if p_value > alpha:\n",
    "    print(\"数据符合泊松分布。\")\n",
    "else:\n",
    "    print(\"数据不符合泊松分布。\")\n"
   ]
  },
  {
   "cell_type": "markdown",
   "metadata": {},
   "source": [
    "## 高峰期到达分布"
   ]
  },
  {
   "cell_type": "code",
   "execution_count": 18,
   "metadata": {},
   "outputs": [
    {
     "name": "stdout",
     "output_type": "stream",
     "text": [
      "MLE of lambda: 2.0\n",
      "Chi-squared statistic: 2.214040170950283\n",
      "p-value: 0.3305424832883614\n",
      "数据符合泊松分布。\n"
     ]
    }
   ],
   "source": [
    "import numpy as np\n",
    "from scipy.stats import poisson, chisquare\n",
    "\n",
    "# 数据\n",
    "data = [3, 1, 3, 1, 1, 1, 1, 4, 2, 2, 3]\n",
    "\n",
    "# MLE of lambda\n",
    "lambda_mle = np.mean(data)\n",
    "print(\"MLE of lambda:\", lambda_mle)\n",
    "\n",
    "# 观察到的值\n",
    "k_values = np.unique(data)\n",
    "\n",
    "# 计算每个 k 的期望频率\n",
    "expected_freq = [poisson.pmf(k, lambda_mle) * len(data) for k in k_values]\n",
    "\n",
    "# 观察到的频率\n",
    "observed_freq = [data.count(k) for k in k_values]\n",
    "\n",
    "# 计算卡方统计量\n",
    "chi2_stat, p_value = chisquare(observed_freq, expected_freq, ddof=1)\n",
    "\n",
    "print(\"Chi-squared statistic:\", chi2_stat)\n",
    "print(\"p-value:\", p_value)\n",
    "\n",
    "# 解释结果\n",
    "alpha = 0.1\n",
    "if p_value > alpha:\n",
    "    print(\"数据符合泊松分布。\")\n",
    "else:\n",
    "    print(\"数据不符合泊松分布。\")\n"
   ]
  },
  {
   "cell_type": "code",
   "execution_count": 19,
   "metadata": {},
   "outputs": [
    {
     "data": {
      "text/plain": [
       "<Figure size 432x288 with 0 Axes>"
      ]
     },
     "metadata": {},
     "output_type": "display_data"
    },
    {
     "data": {
      "image/png": "[encoded data removed]",
      "text/plain": [
       "<Figure size 720x432 with 1 Axes>"
      ]
     },
     "metadata": {
      "needs_background": "light"
     },
     "output_type": "display_data"
    }
   ],
   "source": [
    "# 计算泊松分布的PMF\n",
    "k_values = np.arange(0, max(data) + 1)\n",
    "pmf = poisson.pmf(k_values, lambda_mle)\n",
    "\n",
    "# 绘制数据的直方图\n",
    "plt.figure()\n",
    "plt.figure(figsize=(10, 6))\n",
    "plt.hist(data, bins=k_values, density=True, alpha=0.6, color='g', label='Data Histogram')\n",
    "\n",
    "# 绘制泊松分布的PMF\n",
    "plt.plot(k_values, pmf, 'r-', lw=2, label=f'Poisson PMF (λ={lambda_mle:.2f})')\n",
    "\n",
    "plt.title('Data Histogram and Poisson PMF')\n",
    "plt.xlabel('Value')\n",
    "plt.ylabel('Probability')\n",
    "plt.legend()\n",
    "plt.show()"
   ]
  },
  {
   "cell_type": "markdown",
   "metadata": {},
   "source": [
    "## 周中分布拟合-M/M/2"
   ]
  },
  {
   "cell_type": "code",
   "execution_count": 35,
   "metadata": {},
   "outputs": [
    {
     "name": "stdout",
     "output_type": "stream",
     "text": [
      "Fitted Exponential Distribution Parameters: (1.0, 1.1111111111111112)\n"
     ]
    },
    {
     "data": {
      "image/png": "[encoded data removed]",
      "text/plain": [
       "<Figure size 432x288 with 1 Axes>"
      ]
     },
     "metadata": {
      "needs_background": "light"
     },
     "output_type": "display_data"
    },
    {
     "name": "stdout",
     "output_type": "stream",
     "text": [
      "Chi-squared statistic: 6.486675534557628\n",
      "p-value: 0.03903339304531394\n"
     ]
    }
   ],
   "source": [
    "from scipy.stats import expon\n",
    "import numpy as np\n",
    "import matplotlib.pyplot as plt\n",
    "\n",
    "# 给定数据\n",
    "data = [3, 4, 1, 4, 3, 4, 3, 3, 2, 1, 3, 4, 1, 1, 1, 1, 1, 2, 2, 1, 1, 2, 3, 2, 2, 2, 3, 2, 1, 1, 1, 2, 2, 1, 2, 4]\n",
    "\n",
    "# 拟合指数分布\n",
    "param = expon.fit(data)\n",
    "print(\"Fitted Exponential Distribution Parameters:\", param)\n",
    "\n",
    "import matplotlib.pyplot as plt\n",
    "\n",
    "# 绘制数据的直方图\n",
    "plt.hist(data, bins=20, density=True, alpha=0.6, color='g', label='Data Histogram')\n",
    "\n",
    "# 计算指数分布的概率密度函数（PDF）\n",
    "x = np.linspace(0, np.max(data), 1000)\n",
    "pdf = expon.pdf(x, *param[:-2], loc=param[-2], scale=param[-1])\n",
    "plt.plot(x, pdf, 'r-', lw=2, label='Exponential PDF')\n",
    "\n",
    "plt.title('Data Histogram and Fitted Exponential Distribution')\n",
    "plt.xlabel('Value')\n",
    "plt.ylabel('Probability Density')\n",
    "plt.legend()\n",
    "plt.show()\n",
    "\n",
    "from scipy.stats import chisquare\n",
    "\n",
    "# 计算观察到的频率\n",
    "observed_freq, bins = np.histogram(data, bins=4)\n",
    "\n",
    "# 计算期望频率\n",
    "expected_freq = expon.pdf(bins[:-1], *param[:-2], loc=param[-2], scale=param[-1]) * len(data) * (bins[1] - bins[0])\n",
    "\n",
    "# 卡方检验\n",
    "chi2_stat, p_value = chisquare(observed_freq, expected_freq, ddof=1)\n",
    "\n",
    "print(\"Chi-squared statistic:\", chi2_stat)\n",
    "print(\"p-value:\", p_value)"
   ]
  },
  {
   "cell_type": "code",
   "execution_count": 37,
   "metadata": {},
   "outputs": [
    {
     "name": "stdout",
     "output_type": "stream",
     "text": [
      "Fitted Exponential Distribution Parameters: (1.0, 2.0)\n"
     ]
    },
    {
     "data": {
      "image/png": "[encoded data removed]",
      "text/plain": [
       "<Figure size 432x288 with 1 Axes>"
      ]
     },
     "metadata": {
      "needs_background": "light"
     },
     "output_type": "display_data"
    },
    {
     "name": "stdout",
     "output_type": "stream",
     "text": [
      "Chi-squared statistic: 9.362005196364747\n",
      "p-value: 0.00926971542669599\n"
     ]
    }
   ],
   "source": [
    "from scipy.stats import expon\n",
    "import numpy as np\n",
    "import matplotlib.pyplot as plt\n",
    "\n",
    "# 给定数据\n",
    "data = [3, 4, 1, 4, 3, 4, 3, 3, 2]\n",
    "\n",
    "# 拟合指数分布\n",
    "param = expon.fit(data)\n",
    "print(\"Fitted Exponential Distribution Parameters:\", param)\n",
    "\n",
    "import matplotlib.pyplot as plt\n",
    "\n",
    "# 绘制数据的直方图\n",
    "plt.hist(data, bins=20, density=True, alpha=0.6, color='g', label='Data Histogram')\n",
    "\n",
    "# 计算指数分布的概率密度函数（PDF）\n",
    "x = np.linspace(0, np.max(data), 1000)\n",
    "pdf = expon.pdf(x, *param[:-2], loc=param[-2], scale=param[-1])\n",
    "plt.plot(x, pdf, 'r-', lw=2, label='Exponential PDF')\n",
    "\n",
    "plt.title('Data Histogram and Fitted Exponential Distribution')\n",
    "plt.xlabel('Value')\n",
    "plt.ylabel('Probability Density')\n",
    "plt.legend()\n",
    "plt.show()\n",
    "\n",
    "from scipy.stats import chisquare\n",
    "\n",
    "# 计算观察到的频率\n",
    "observed_freq, bins = np.histogram(data, bins=4)\n",
    "\n",
    "# 计算期望频率\n",
    "expected_freq = expon.pdf(bins[:-1], *param[:-2], loc=param[-2], scale=param[-1]) * len(data) * (bins[1] - bins[0])\n",
    "\n",
    "# 卡方检验\n",
    "chi2_stat, p_value = chisquare(observed_freq, expected_freq, ddof=1)\n",
    "\n",
    "print(\"Chi-squared statistic:\", chi2_stat)\n",
    "print(\"p-value:\", p_value)"
   ]
  },
  {
   "cell_type": "code",
   "execution_count": 58,
   "metadata": {},
   "outputs": [
    {
     "name": "stdout",
     "output_type": "stream",
     "text": [
      "Fitted Exponential Distribution Parameters: (1.0, 0.894736842105263)\n"
     ]
    },
    {
     "data": {
      "image/png": "[encoded data removed]",
      "text/plain": [
       "<Figure size 432x288 with 1 Axes>"
      ]
     },
     "metadata": {
      "needs_background": "light"
     },
     "output_type": "display_data"
    },
    {
     "name": "stdout",
     "output_type": "stream",
     "text": [
      "Chi-squared statistic: 7.979217788127424\n",
      "p-value: 0.018506950882909393\n"
     ]
    }
   ],
   "source": [
    "from scipy.stats import expon\n",
    "import numpy as np\n",
    "import matplotlib.pyplot as plt\n",
    "\n",
    "# 给定数据\n",
    "data = [ 1, 3, 4, 1, 1, 1, 1, 1, 2, 2, 1, 1, 2, 3, 2, 2, 2, 3, 2, 1, 1, 1, 2, 2, 1, 2, 4]\n",
    "\n",
    "# 拟合指数分布\n",
    "param = expon.fit(data)\n",
    "print(\"Fitted Exponential Distribution Parameters:\", param)\n",
    "\n",
    "import matplotlib.pyplot as plt\n",
    "\n",
    "# 绘制数据的直方图\n",
    "plt.hist(data, bins=20, density=True, alpha=0.6, color='g', label='Data Histogram')\n",
    "\n",
    "# 计算指数分布的概率密度函数（PDF）\n",
    "x = np.linspace(0, np.max(data), 1000)\n",
    "pdf = expon.pdf(x, *param[:-2], loc=param[-2], scale=param[-1])\n",
    "plt.plot(x, pdf, 'r-', lw=2, label='Exponential PDF')\n",
    "\n",
    "plt.title('Data Histogram and Fitted Exponential Distribution')\n",
    "plt.xlabel('Value')\n",
    "plt.ylabel('Probability Density')\n",
    "plt.legend()\n",
    "plt.show()\n",
    "\n",
    "from scipy.stats import chisquare\n",
    "\n",
    "# 计算观察到的频率\n",
    "observed_freq, bins = np.histogram(data, bins=4)\n",
    "\n",
    "# 计算期望频率\n",
    "expected_freq = expon.pdf(bins[:-1], *param[:-2], loc=param[-2], scale=param[-1]) * len(data) * (bins[1] - bins[0])\n",
    "\n",
    "# 卡方检验\n",
    "chi2_stat, p_value = chisquare(observed_freq, expected_freq, ddof=1)\n",
    "\n",
    "print(\"Chi-squared statistic:\", chi2_stat)\n",
    "print(\"p-value:\", p_value)"
   ]
  },
  {
   "cell_type": "code",
   "execution_count": 59,
   "metadata": {},
   "outputs": [
    {
     "name": "stdout",
     "output_type": "stream",
     "text": [
      "Fitted Exponential Distribution Parameters: (1.0, 1.9333333333333331)\n"
     ]
    },
    {
     "data": {
      "image/png": "[encoded data removed]",
      "text/plain": [
       "<Figure size 720x432 with 1 Axes>"
      ]
     },
     "metadata": {
      "needs_background": "light"
     },
     "output_type": "display_data"
    }
   ],
   "source": [
    "import numpy as np\n",
    "import matplotlib.pyplot as plt\n",
    "from scipy.stats import expon, probplot\n",
    "\n",
    "# 给定数据\n",
    "data = np.array([1, 7, 9, 1, 3, 5, 1, 1, 3, 1, 3, 1, 1, 1, 1,4, 2, 2, 3])\n",
    "\n",
    "# 随机选择80%的数据用于拟合\n",
    "np.random.seed(42)  # 为了可重复性\n",
    "np.random.shuffle(data)\n",
    "fit_data = data[:int(0.8 * len(data))]\n",
    "test_data = data[int(0.8 * len(data)):]\n",
    "\n",
    "# 拟合指数分布\n",
    "param = expon.fit(fit_data)\n",
    "print(\"Fitted Exponential Distribution Parameters:\", param)\n",
    "\n",
    "# 绘制Q-Q图\n",
    "fig, ax = plt.subplots(figsize=(10, 6))\n",
    "probplot(test_data, dist=expon, sparams=param, plot=ax)\n",
    "ax.set_title('Q-Q Plot for Exponential Distribution')\n",
    "ax.set_xlabel('Theoretical Quantiles')\n",
    "ax.set_ylabel('Empirical Quantiles')\n",
    "plt.show()"
   ]
  },
  {
   "cell_type": "code",
   "execution_count": null,
   "metadata": {},
   "outputs": [],
   "source": []
  }
 ],
 "metadata": {
  "kernelspec": {
   "display_name": "Python 3",
   "language": "python",
   "name": "python3"
  },
  "language_info": {
   "codemirror_mode": {
    "name": "ipython",
    "version": 3
   },
   "file_extension": ".py",
   "mimetype": "text/x-python",
   "name": "python",
   "nbconvert_exporter": "python",
   "pygments_lexer": "ipython3",
   "version": "3.7.0"
  }
 },
 "nbformat": 4,
 "nbformat_minor": 2
}
